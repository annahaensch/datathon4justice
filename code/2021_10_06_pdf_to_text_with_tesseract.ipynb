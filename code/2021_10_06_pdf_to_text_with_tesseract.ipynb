{
 "cells": [
  {
   "cell_type": "code",
   "execution_count": 1,
   "metadata": {},
   "outputs": [],
   "source": [
    "from PIL import Image\n",
    "import pytesseract"
   ]
  },
  {
   "cell_type": "markdown",
   "metadata": {},
   "source": [
    "I followed [this Stack Overflow thread](https://stackoverflow.com/questions/50951955/pytesseract-tesseractnotfound-error-tesseract-is-not-installed-or-its-not-i) to correctly install pytesseract.  This converts the pdf to a jpg and reads the text from the image.  I've only tested one page so far, but it looks promising!"
   ]
  },
  {
   "cell_type": "code",
   "execution_count": 2,
   "metadata": {},
   "outputs": [
    {
     "name": "stdout",
     "output_type": "stream",
     "text": [
      "For Date: 01/01/2019 -    Cail Number Time Call ReasonDuplicate19-1 0341 Initiated - PARKING CHECKCall Taker: PATROL CRAIG A EICHHAMMERLocation/Addres [WIA 249] NORTH STunit: 3119-4 0834 Initiated - BUILDING CHECKCall Taker: PATROL DAVID JENNINGS, DLocation/Address: COLD SPRING RDUnit: 34Narrative:checkedNarrative:doneNarrative:Checked 025919-5 0842 Initiated - BUILDING CHECKCall Taker: PATROL DAVID JENNINGS, DLocation/Address: LONGVIEW TERUnit: 34Narrative:checkedNarrative:Checked 020819-6 0846 Initiated - BUILDING CHECKCall Taker: PATROL DAVID JENNINGS, DLocation/Address: FRENIER AVEUnit: 34Narrative:checkedNarrative:Checked 015919-7 0847 Initiated - BUILDING CHECKCall Taker: PATROL DAVID JENNINGS, DLocation/Address: HARWOOD STUnit: 34Narrative:checkedNarrative:TuesdayChecked 0201ActionSERVICES RENDEREDArvd-03:42:00 Clrd-03:42:17BUILDING CHECKED/SECUREDArvd-08:34:38 Clrd-08:35:33BUILDING CHECKED/SECUREDArvd-08:43:07 Clrd-08:43:21BUILDING CHECKED/SECUREDArvd-08:46:51 Clrd-08:47:07BUILDING CHECKED/SECUREDArvd-08:47:37 Clrd-08:48:05\f",
      "\n"
     ]
    }
   ],
   "source": [
    "text=str(pytesseract.image_to_string(Image.open(r'../data/Logs2019_testpg.jpg'),lang='eng'))\n",
    "\n",
    "text=text.replace(\"\\n\",\"\")\n",
    "\n",
    "print(text)"
   ]
  },
  {
   "cell_type": "code",
   "execution_count": 10,
   "metadata": {},
   "outputs": [],
   "source": [
    "text_file = open(\"../data/Logs2019_testpg.txt\",\"w\")"
   ]
  },
  {
   "cell_type": "code",
   "execution_count": 11,
   "metadata": {},
   "outputs": [
    {
     "data": {
      "text/plain": [
       "1048"
      ]
     },
     "execution_count": 11,
     "metadata": {},
     "output_type": "execute_result"
    }
   ],
   "source": [
    "text_file.write(text)\n",
    "text_file.close()"
   ]
  },
  {
   "cell_type": "code",
   "execution_count": null,
   "metadata": {},
   "outputs": [],
   "source": []
  },
  {
   "cell_type": "code",
   "execution_count": null,
   "metadata": {},
   "outputs": [],
   "source": []
  }
 ],
 "metadata": {
  "kernelspec": {
   "display_name": "Python 3",
   "language": "python",
   "name": "python3"
  },
  "language_info": {
   "codemirror_mode": {
    "name": "ipython",
    "version": 3
   },
   "file_extension": ".py",
   "mimetype": "text/x-python",
   "name": "python",
   "nbconvert_exporter": "python",
   "pygments_lexer": "ipython3",
   "version": "3.8.5"
  }
 },
 "nbformat": 4,
 "nbformat_minor": 4
}
