{
 "cells": [
  {
   "cell_type": "code",
   "execution_count": 138,
   "metadata": {},
   "outputs": [],
   "source": [
    "from PIL import Image\n",
    "import pytesseract\n",
    "import re\n",
    "from pdf2image import pdfinfo_from_path, convert_from_path\n",
    "\n",
    "import logging\n",
    "import sys\n",
    "import os\n",
    "\n",
    "import pandas as pd"
   ]
  },
  {
   "cell_type": "markdown",
   "metadata": {},
   "source": [
    "I followed [this Stack Overflow thread](https://stackoverflow.com/questions/50951955/pytesseract-tesseractnotfound-error-tesseract-is-not-installed-or-its-not-i) to correctly install pytesseract.  This converts the pdf to a jpg and reads the text from the image.  I've only tested one page so far, but it looks promising!"
   ]
  },
  {
   "cell_type": "code",
   "execution_count": 22,
   "metadata": {},
   "outputs": [
    {
     "name": "stdout",
     "output_type": "stream",
     "text": [
      "For Date: 01/01/2019 -    Cail Number Time Call ReasonDuplicate19-1 0341 Initiated - PARKING CHECKCall Taker: PATROL CRAIG A EICHHAMMERLocation/Addres [WIA 249] NORTH STunit: 3119-4 0834 Initiated - BUILDING CHECKCall Taker: PATROL DAVID JENNINGS, DLocation/Address: COLD SPRING RDUnit: 34Narrative:checkedNarrative:doneNarrative:Checked 025919-5 0842 Initiated - BUILDING CHECKCall Taker: PATROL DAVID JENNINGS, DLocation/Address: LONGVIEW TERUnit: 34Narrative:checkedNarrative:Checked 020819-6 0846 Initiated - BUILDING CHECKCall Taker: PATROL DAVID JENNINGS, DLocation/Address: FRENIER AVEUnit: 34Narrative:checkedNarrative:Checked 015919-7 0847 Initiated - BUILDING CHECKCall Taker: PATROL DAVID JENNINGS, DLocation/Address: HARWOOD STUnit: 34Narrative:checkedNarrative:TuesdayChecked 0201ActionSERVICES RENDEREDArvd-03:42:00 Clrd-03:42:17BUILDING CHECKED/SECUREDArvd-08:34:38 Clrd-08:35:33BUILDING CHECKED/SECUREDArvd-08:43:07 Clrd-08:43:21BUILDING CHECKED/SECUREDArvd-08:46:51 Clrd-08:47:07BUILDING CHECKED/SECUREDArvd-08:47:37 Clrd-08:48:05\f",
      "\n"
     ]
    }
   ],
   "source": [
    "page_text=str(pytesseract.image_to_string(Image.open(r'../data/Logs2019_testpg.jpg'),lang='eng'))\n",
    "page_text=page_text.replace('\\n', \"\")\n",
    "print(page_text)"
   ]
  },
  {
   "cell_type": "code",
   "execution_count": null,
   "metadata": {},
   "outputs": [],
   "source": [
    "Page segmentation modes:\n",
    "  0    Orientation and script detection (OSD) only.\n",
    "  1    Automatic page segmentation with OSD.\n",
    "  2    Automatic page segmentation, but no OSD, or OCR. (not implemented)\n",
    "  3    Fully automatic page segmentation, but no OSD. (Default)\n",
    "  4    Assume a single column of text of variable sizes.\n",
    "  5    Assume a single uniform block of vertically aligned text.\n",
    "  6    Assume a single uniform block of text.\n",
    "  7    Treat the image as a single text line.\n",
    "  8    Treat the image as a single word.\n",
    "  9    Treat the image as a single word in a circle.\n",
    " 10    Treat the image as a single character.\n",
    " 11    Sparse text. Find as much text as possible in no particular order.\n",
    " 12    Sparse text with OSD.\n",
    " 13    Raw line. Treat the image as a single text line,\n",
    "       bypassing hacks that are Tesseract-specific."
   ]
  },
  {
   "cell_type": "code",
   "execution_count": 141,
   "metadata": {},
   "outputs": [
    {
     "name": "stdout",
     "output_type": "stream",
     "text": [
      "50\n",
      "100\n",
      "150\n",
      "200\n",
      "250\n",
      "300\n",
      "350\n",
      "400\n",
      "450\n",
      "500\n",
      "550\n",
      "600\n",
      "650\n",
      "700\n",
      "750\n",
      "800\n",
      "850\n",
      "900\n",
      "950\n",
      "1000\n",
      "1050\n",
      "1100\n",
      "1150\n",
      "1200\n",
      "1250\n",
      "1300\n",
      "1350\n",
      "1400\n",
      "1450\n"
     ]
    }
   ],
   "source": [
    "info = pdfinfo_from_path('../primary_datasets/Williamstown_policing/Logs2020.pdf', userpw=None, poppler_path=None)\n",
    "\n",
    "maxPages = info[\"Pages\"]\n",
    "#maxPages = 20\n",
    "\n",
    "n = 1\n",
    "\n",
    "for page in range(1, maxPages+1, 10) :\n",
    "    pages = convert_from_path('../primary_datasets/Williamstown_policing/Logs2020.pdf', \n",
    "                          dpi=300, first_page=page, last_page = min(page+10-1,maxPages))\n",
    "        \n",
    "    for page in pages:\n",
    "        \n",
    "        if n% 50 == 0:\n",
    "            print(n)\n",
    "        # Write pdf to image file.\n",
    "        img_file = '../data/pdf_to_jpg/out_{}.jpg'.format(n)\n",
    "        page.save(img_file.format(n),\"JPEG\")\n",
    "\n",
    "\n",
    "        # Write image file to text file.\n",
    "        text_file = open('../data/Logs2020/page_{}.txt'.format(n), 'w')\n",
    "        text=str(pytesseract.image_to_string(Image.open(img_file),lang='eng', config='--psm 12'))  # 12\n",
    "        text=text.replace(\"\\n\",\" \") # make spaces instead of lose info\n",
    "\n",
    "        text_file.write(text)\n",
    "        text_file.close()\n",
    "        \n",
    "        \n",
    "        #and delete image file\n",
    "        os.remove(img_file)\n",
    "\n",
    "        n += 1\n",
    "        \n",
    "        "
   ]
  },
  {
   "cell_type": "code",
   "execution_count": 130,
   "metadata": {},
   "outputs": [
    {
     "name": "stdout",
     "output_type": "stream",
     "text": [
      "Unit  34  Disp-12:07:37  Enrt~-12:07:56  Arvd-12:11:13  Clrd+12:30:38  Vehicle  BLU 2010 GMC PK SIERRA Reg: PC MA VT11441 VIN: 3GTRKTEA4AG214975  Operator  DEFREITAS, TODD J @ 710 HENDERSON RD - WILLIAMSTOWN, MA 01267-2217  Race: W Sex: M  Owner  DEFREITAS, TODD J @ 710 HENDERSON RD ~ WILLIAMSTOWN, MA 01267-2217  Race:  W Sex:  M  Narrative  Mailbox and Post were rippéd out of the ground and are gone.  Narrative  at station to speak with Ofc. William  about earlier mail box incident.  Refer To Incident:  i9-1-OF  Refer To Accident:  19-2-AC  19-22  1527  911 - MOTOR VEHICLE ACCIDENT  BUILDING CHECKED/SECURED  Cail Taker  PATROL KALVIN DZIEDZIAK  Locatiion/Address  NORTH ST  Unit  32  Arvd-15:29:20  Disp-15:27:00  Clrd-15:44:26  Unit  38  Disp-15:27:00  Arvd-15:29:18  Clrd-15:46:09  Vehicle  RED 2011  SUZI SX4 Reg: PC MA  66BS20  VIN: JS2YBS5A38B6301415  Operator  FORREST,  ERICA @ 4 EDMUNDS ST  Apt. #A201 ~ ADAMS, MA 01220-2249  Race:  WwW  Sex: F  Refer To Citation  T1400608  Owner  FORREST,  ERICA @ 4 EDMUNDS ST  Apt. #A201 - ADAMS, MA 01220-2249  Race:  Ww  Sex: F  Vehicle  GRY 2012  SUBA ST OUTBAC Reg:  PC MA 452WB4 VIN: 4S4BRBCC8C3239617  Operator  LEBLANC,  NATHAN L @ 253 NORTH  ST - WILLIAMSTOWN, MA 01267-2004  Race: W  Sex: M  Owner  LEBLANC,  NATHAN L @ 253 NORTH  ST - WILLIAMSTOWN, MA 01267-2004  Race: W  Sex: M  Narrative  MVA located at the rotary.  1535- Williams Inn asked to hold  peter pan bus for three  additional passengers.  Refer To Accident:  19~1-AC  19-23  1603  911 ~- TRAFFIC COMPLAINT  PATROL ADVISED  Call Taker:  PATROL KALVIN DZIEDZIAK  Location/Address:  SIMONDS RD  Narrative:  CP reports that a vehicle was tail-gating her and acting  somewhat aggressively (waving hands, attempting to pass).  Vehicle is no longer behind cp but was said to have  continued southbound on Simonds road towards the rotary.  Vehicle is said to be a navy blue Hyundai.  19-26  1733  Initiated - BUILDING CHECK  BUILDING CHECKED/SECURED  Call Taker  PATROL JOHN J MCCONNELL JR  Location/Address  [WIA 190] MAIN ST  Unit  38  Arv@-17:34:23 Clrd-17:34:30  Narrative  01/02/2019 0230 No activity Checked $3  19-27  1738  Initiated - MOTOR VEHICLE STOP  CITATION - WARNING \f",
      "\n"
     ]
    }
   ],
   "source": [
    "print(text)"
   ]
  },
  {
   "cell_type": "code",
   "execution_count": 120,
   "metadata": {},
   "outputs": [
    {
     "name": "stdout",
     "output_type": "stream",
     "text": [
      "Narrative:Removed tree debris.19-13 L122 911 - ROAD CONDITIONS REMOVED HAZARDCall Taker: DISPATCHER CHRISTINE LEMOINELocation/Address: TACONIC TREUnit: 34Disp-11:24:04 Enrt-11:24:07 Arvd-11:28:48 Clrd-11:31:31Narrative:Partial road blockage on the downward lane about a mile fromthe A-Frame Bakery. Tree across the road.Narrative:Removed.19-14 1134 Initiated - BUILDING CHECK BUILDING CHECKED/SECUREDCall Taker: PATROL DAVID JENNINGS, DLocation/Address: COLD SPRING RDUnit: 34Arvd-11:34:43 Clrd-11:35:30 |Narrative: :doneNarrative:Checked 030819-17 1150 Initiated - BUILDING CHECK BUILDING CHECKED/SECUREDCall Taker: CHIEF KYLE J JOHNSONLocation/Address: SIMONDS RDUnit: 33Arvd-12:18:44 Clrd-12:18:50Narrative:Part of fence is down on sidewalk. GC advised.Narrative:On scene fixing fence.Narrative:checkedNarrative:01/02/2019 0239 Checked $319-15 1201 Initiated - MOTOR VEHICLE STOP CITATION - WARNINGCall Taker: CHIEF KYLE J JOHNSONLocation/Address: MAIN ST: Unit: 33Arvd~i2:01:24 Clird-12:11:28Vehicle: RED 2005 FORD CO FOCUS. Reg: PC MA 6VNS584 VIN: 3FAFP31N35R126626Operator: MURPHY, ALLEN E @ 63 THICKET ST - ABINGTON, MA 02351~-1026Refer To Citation:Owner:19-16 1205TAKENCall Taker:Location/Address:Race: U Sex: MT0905978MURPHY, RICHARD A JR @ 39 S LAKEVIEW RD - NORTON, MA 02766-1503Race: U Sex: MPhone - PROPERTY DAMAGE INVESTIGATED / REPORTDISPATCHER CHRISTINE LEMOINE{WIA 1933] HENDERSON RD\f",
      "\n"
     ]
    }
   ],
   "source": [
    "print(text)"
   ]
  },
  {
   "cell_type": "code",
   "execution_count": null,
   "metadata": {},
   "outputs": [],
   "source": []
  }
 ],
 "metadata": {
  "kernelspec": {
   "display_name": "Python 3 (ipykernel)",
   "language": "python",
   "name": "python3"
  },
  "language_info": {
   "codemirror_mode": {
    "name": "ipython",
    "version": 3
   },
   "file_extension": ".py",
   "mimetype": "text/x-python",
   "name": "python",
   "nbconvert_exporter": "python",
   "pygments_lexer": "ipython3",
   "version": "3.8.12"
  }
 },
 "nbformat": 4,
 "nbformat_minor": 4
}
