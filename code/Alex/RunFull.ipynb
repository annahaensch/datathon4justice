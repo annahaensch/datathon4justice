{
 "cells": [
  {
   "cell_type": "code",
   "execution_count": 1,
   "id": "e48bcd4b",
   "metadata": {},
   "outputs": [],
   "source": [
    "import pandas as pd\n",
    "\n",
    "from parse_police_logs import *"
   ]
  },
  {
   "cell_type": "code",
   "execution_count": 2,
   "id": "d5bd5d0b",
   "metadata": {},
   "outputs": [
    {
     "name": "stdout",
     "output_type": "stream",
     "text": [
      "2372\n",
      "08:19\n",
      "07:42\n",
      "End of string? 249 19-94  0807  Other ~ ASSIST OTHER AGENCY - REPO  SERVICES RENDERED  Cali Taker  PATROL DAVID JENNINGS, D  Vehicle  WHI 2013 HYUN SE ELANTRA Reg: PC MA 2CS815 VIN: 5NPDH4AE5DH351247  Owner  LAFLECHE, JANELL MARIE @ 15 ARCH ST - PITTSFIELD, MA 01201-5423  Race:  W Sex: F  Narrative  Ma  PC 2CS815 repossessed from [i Adams Rd.  \n",
      "<re.Match object; span=(68, 78), match='Cali Taker'>\n",
      "09:\n"
     ]
    }
   ],
   "source": [
    "parse_police_logs(2019)"
   ]
  },
  {
   "cell_type": "code",
   "execution_count": null,
   "id": "4fa35def",
   "metadata": {},
   "outputs": [],
   "source": []
  }
 ],
 "metadata": {
  "kernelspec": {
   "display_name": "Python 3 (ipykernel)",
   "language": "python",
   "name": "python3"
  },
  "language_info": {
   "codemirror_mode": {
    "name": "ipython",
    "version": 3
   },
   "file_extension": ".py",
   "mimetype": "text/x-python",
   "name": "python",
   "nbconvert_exporter": "python",
   "pygments_lexer": "ipython3",
   "version": "3.8.12"
  }
 },
 "nbformat": 4,
 "nbformat_minor": 5
}
