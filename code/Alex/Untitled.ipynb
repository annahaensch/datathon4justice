{
 "cells": [
  {
   "cell_type": "code",
   "execution_count": 1,
   "id": "32c127e5",
   "metadata": {},
   "outputs": [],
   "source": [
    "import pandas as pd\n",
    "\n",
    "import matplotlib.pylab as plt\n",
    "import seaborn as sns\n",
    "sns.set_style('white')"
   ]
  },
  {
   "cell_type": "code",
   "execution_count": 3,
   "id": "caac410c",
   "metadata": {},
   "outputs": [],
   "source": [
    "logs = pd.read_csv('../../data/parsed_logs_2019.csv')\n",
    "people = pd.read_csv('../../data/parsed_people_2019.csv')\n",
    "vehicles = pd.read_csv('../../data/parsed_vehicles_2019.csv')\n",
    "units = pd.read_csv('../../data/parsed_responding_units_2019.csv')\n"
   ]
  },
  {
   "cell_type": "code",
   "execution_count": 5,
   "id": "92135ed4",
   "metadata": {},
   "outputs": [
    {
     "data": {
      "text/plain": [
       "2013                 199\n",
       "2017                 198\n",
       "2018                 191\n",
       "2015                 190\n",
       "2014                 181\n",
       "                    ... \n",
       "VOLV                   1\n",
       "ITHGCV3                1\n",
       "2GCEK19V8Y1338279      1\n",
       "KLITD56627B190609      1\n",
       "U                      1\n",
       "Name: vehicles_year, Length: 203, dtype: int64"
      ]
     },
     "execution_count": 5,
     "metadata": {},
     "output_type": "execute_result"
    }
   ],
   "source": [
    "vehicles['vehicles_year'].value_counts()"
   ]
  },
  {
   "cell_type": "code",
   "execution_count": null,
   "id": "061a26bf",
   "metadata": {},
   "outputs": [],
   "source": []
  }
 ],
 "metadata": {
  "kernelspec": {
   "display_name": "Python 3 (ipykernel)",
   "language": "python",
   "name": "python3"
  },
  "language_info": {
   "codemirror_mode": {
    "name": "ipython",
    "version": 3
   },
   "file_extension": ".py",
   "mimetype": "text/x-python",
   "name": "python",
   "nbconvert_exporter": "python",
   "pygments_lexer": "ipython3",
   "version": "3.8.12"
  }
 },
 "nbformat": 4,
 "nbformat_minor": 5
}
